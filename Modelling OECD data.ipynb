{
 "cells": [
  {
   "cell_type": "code",
   "execution_count": 18,
   "metadata": {},
   "outputs": [
    {
     "name": "stdout",
     "output_type": "stream",
     "text": [
      "The sql extension is already loaded. To reload it, use:\n",
      "  %reload_ext sql\n"
     ]
    }
   ],
   "source": [
    "%load_ext sql\n",
    "%sql postgresql://appdev@data:5432/appdev\n",
    "%matplotlib inline"
   ]
  },
  {
   "cell_type": "code",
   "execution_count": 20,
   "metadata": {},
   "outputs": [],
   "source": [
    "import pandas as pd\n",
    "import numpy as np"
   ]
  },
  {
   "cell_type": "code",
   "execution_count": 21,
   "metadata": {},
   "outputs": [
    {
     "name": "stdout",
     "output_type": "stream",
     "text": [
      "Done.\n",
      "Done.\n",
      "Done.\n",
      "Done.\n",
      "Done.\n",
      "Done.\n",
      "Done.\n",
      "Done.\n",
      "Done.\n",
      "Done.\n",
      "Done.\n",
      "Done.\n",
      "Done.\n",
      "Done.\n",
      "Done.\n"
     ]
    },
    {
     "data": {
      "text/plain": [
       "[]"
      ]
     },
     "execution_count": 21,
     "metadata": {},
     "output_type": "execute_result"
    }
   ],
   "source": [
    "%sql DROP TABLE IF EXISTS value;\n",
    "%sql DROP TABLE IF EXISTS location;\n",
    "%sql DROP TABLE IF EXISTS indicator;\n",
    "%sql DROP TABLE IF EXISTS subject;\n",
    "%sql DROP TABLE IF EXISTS measure;\n",
    "%sql DROP TABLE IF EXISTS frequency;\n",
    "%sql DROP TABLE IF EXISTS time;\n",
    "%sql DROP TABLE IF EXISTS flagcodes;\n",
    "\n",
    "%sql CREATE TABLE location(id int NOT NULL PRIMARY KEY, location VARCHAR(100) unique);\n",
    "\n",
    "%sql CREATE TABLE indicator(id int NOT NULL PRIMARY KEY, indicator VARCHAR(100) unique);\n",
    "\n",
    "%sql CREATE TABLE subject(id int NOT NULL PRIMARY KEY, subject VARCHAR(100) unique);\n",
    "\n",
    "%sql CREATE TABLE measure(id int NOT NULL PRIMARY KEY, measure VARCHAR(100) unique);\n",
    "\n",
    "%sql CREATE TABLE frequency(id int NOT NULL PRIMARY KEY, frequency VARCHAR(100) unique);\n",
    "\n",
    "%sql CREATE TABLE time(id int NOT NULL PRIMARY KEY, time VARCHAR(100) unique);\n",
    "\n",
    "%sql CREATE TABLE flagcodes(id int NOT NULL PRIMARY KEY, flagcodes VARCHAR(100) unique);\n"
   ]
  },
  {
   "cell_type": "code",
   "execution_count": 22,
   "metadata": {},
   "outputs": [
    {
     "name": "stdout",
     "output_type": "stream",
     "text": [
      "Done.\n"
     ]
    },
    {
     "data": {
      "text/plain": [
       "[]"
      ]
     },
     "execution_count": 22,
     "metadata": {},
     "output_type": "execute_result"
    }
   ],
   "source": [
    "%%sql\n",
    "CREATE TABLE value(id int NOT NULL PRIMARY KEY,\n",
    "                  value numeric,\n",
    "                  locationID int references location(id),\n",
    "                  indicatorID int references indicator(id),\n",
    "                  subjectID int references subject(id),\n",
    "                  measureID int references measure(id),\n",
    "                  frequencyID int references frequency(id),\n",
    "                  timeID int references time(id),\n",
    "                  flagcodesID int references flagcodes(id),\n",
    "                  constraint FK_Attributes unique (locationID, indicatorID, subjectID, measureID, frequencyID, timeID, flagcodesID));"
   ]
  },
  {
   "cell_type": "code",
   "execution_count": null,
   "metadata": {},
   "outputs": [],
   "source": []
  }
 ],
 "metadata": {
  "kernelspec": {
   "display_name": "Python 3",
   "language": "python",
   "name": "python3"
  },
  "language_info": {
   "codemirror_mode": {
    "name": "ipython",
    "version": 3
   },
   "file_extension": ".py",
   "mimetype": "text/x-python",
   "name": "python",
   "nbconvert_exporter": "python",
   "pygments_lexer": "ipython3",
   "version": "3.6.3"
  }
 },
 "nbformat": 4,
 "nbformat_minor": 2
}
